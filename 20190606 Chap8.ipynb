{
 "cells": [
  {
   "cell_type": "markdown",
   "metadata": {},
   "source": [
    "# 自訂函數"
   ]
  },
  {
   "cell_type": "code",
   "execution_count": 1,
   "metadata": {},
   "outputs": [
    {
     "name": "stdout",
     "output_type": "stream",
     "text": [
      "314.1592653589793\n"
     ]
    }
   ],
   "source": [
    "import math\n",
    "\n",
    "def circle(radius):\n",
    "    area = radius * radius * math.pi\n",
    "    return area\n",
    "\n",
    "print(circle(10))"
   ]
  },
  {
   "cell_type": "code",
   "execution_count": 5,
   "metadata": {},
   "outputs": [
    {
     "name": "stdout",
     "output_type": "stream",
     "text": [
      "請輸入圓的半徑12.3\n",
      "圓的面積為： 475.2915525615999\n"
     ]
    }
   ],
   "source": [
    "import math\n",
    "\n",
    "def circle(radius):\n",
    "    area = radius * radius * math.pi\n",
    "    return area\n",
    "\n",
    "r = input(\"請輸入圓的半徑\")\n",
    "print(\"圓的面積為：\",circle(float(r)))"
   ]
  },
  {
   "cell_type": "markdown",
   "metadata": {},
   "source": [
    "# example: exchange sort"
   ]
  },
  {
   "cell_type": "code",
   "execution_count": 18,
   "metadata": {},
   "outputs": [
    {
     "name": "stdout",
     "output_type": "stream",
     "text": [
      "[78, 12, 61, 42, 53, 64, 28, 39, 36, 29]\n",
      "[12, 28, 29, 36, 39, 42, 53, 61, 64, 78]\n"
     ]
    }
   ],
   "source": [
    "import random\n",
    "\n",
    "def exchange_sort(input_list):\n",
    "    a = input_list\n",
    "    for i in range(0,len(input_list)-1):\n",
    "        for j in range(i+1,len(input_list)):\n",
    "            if a[i] > a[j]:\n",
    "                a[i], a[j] = a[j], a[i]\n",
    "    return a\n",
    "    \n",
    "my_vector = random.sample(range(0,100),10)\n",
    "print(my_vector)\n",
    "print(exchange_sort(my_vector))"
   ]
  },
  {
   "cell_type": "code",
   "execution_count": 19,
   "metadata": {},
   "outputs": [
    {
     "name": "stdout",
     "output_type": "stream",
     "text": [
      "[70, 43, 37, 98, 55, 93, 1, 48, 75, 23]\n",
      "[98, 93, 75, 70, 55, 48, 43, 37, 23, 1]\n"
     ]
    }
   ],
   "source": [
    "import random\n",
    "\n",
    "def exchange_sort(input_list):\n",
    "    a = input_list\n",
    "    for i in range(0,len(input_list)-1):\n",
    "        for j in range(i+1,len(input_list)):\n",
    "            if a[i] < a[j]:\n",
    "                a[i], a[j] = a[j], a[i]\n",
    "    return a\n",
    "    \n",
    "my_vector = random.sample(range(0,100),10)\n",
    "print(my_vector)\n",
    "print(exchange_sort(my_vector))"
   ]
  },
  {
   "cell_type": "code",
   "execution_count": null,
   "metadata": {},
   "outputs": [],
   "source": []
  }
 ],
 "metadata": {
  "kernelspec": {
   "display_name": "Python 3",
   "language": "python",
   "name": "python3"
  },
  "language_info": {
   "codemirror_mode": {
    "name": "ipython",
    "version": 3
   },
   "file_extension": ".py",
   "mimetype": "text/x-python",
   "name": "python",
   "nbconvert_exporter": "python",
   "pygments_lexer": "ipython3",
   "version": "3.7.1"
  }
 },
 "nbformat": 4,
 "nbformat_minor": 2
}
