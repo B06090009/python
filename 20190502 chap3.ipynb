{
 "cells": [
  {
   "cell_type": "markdown",
   "metadata": {},
   "source": [
    "# 第三章  流程控制"
   ]
  },
  {
   "cell_type": "code",
   "execution_count": 11,
   "metadata": {},
   "outputs": [
    {
     "name": "stdout",
     "output_type": "stream",
     "text": [
      "請輸入攝氏溫度：20\n",
      "華氏溫度為：68.0\n"
     ]
    }
   ],
   "source": [
    "celsius = float(input('請輸入攝氏溫度：'))\n",
    "#print(type(celsius))\n",
    "\n",
    "faherenheit = (9/5) * celsius + 32\n",
    "#print('華氏溫度為：' , faherenheit)\n",
    "print('華氏溫度為：' + str(faherenheit))"
   ]
  },
  {
   "cell_type": "code",
   "execution_count": 14,
   "metadata": {},
   "outputs": [
    {
     "name": "stdout",
     "output_type": "stream",
     "text": [
      "樣本 =  [5, 8, 9, 6, 4, 1, 2, 3, 5, 6]\n",
      "平均數 =  4.9\n",
      "最大數 =  9\n",
      "最小數 =  1\n",
      "變異數 =  6.32\n",
      "標準差 =  2.51\n"
     ]
    }
   ],
   "source": [
    "import statistics as st\n",
    "B = [5,8,9,6,4,1,2,3,5,6]\n",
    "\n",
    "print('樣本 = ' , B)\n",
    "print('平均數 = ' , st.mean(B))\n",
    "print('最大數 = ' , max(B))\n",
    "print('最小數 = ' , min(B))\n",
    "#print('變異數 = ' , st.variance(B))\n",
    "print('變異數 = ' , round(st.variance(B),2))\n",
    "#print('標準差 = ' , st.stdev(B) )\n",
    "print('標準差 = ' , round(st.stdev(B),2))"
   ]
  },
  {
   "cell_type": "markdown",
   "metadata": {},
   "source": [
    "# if"
   ]
  },
  {
   "cell_type": "code",
   "execution_count": 17,
   "metadata": {},
   "outputs": [
    {
     "name": "stdout",
     "output_type": "stream",
     "text": [
      "numB是比較大的數\n"
     ]
    }
   ],
   "source": [
    "numA = 3\n",
    "numB = 4\n",
    "\n",
    "if numA <  numB:\n",
    "    print('numB是比較大的數')"
   ]
  },
  {
   "cell_type": "code",
   "execution_count": 21,
   "metadata": {},
   "outputs": [
    {
     "name": "stdout",
     "output_type": "stream",
     "text": [
      "請輸入nA：30\n",
      "請輸入nB：30\n",
      "nA、nb一樣大\n"
     ]
    }
   ],
   "source": [
    "nA = int(input('請輸入nA：'))\n",
    "nB = int(input('請輸入nB：'))\n",
    "\n",
    "if nA < nB:\n",
    "        print('nA是比較大的數')\n",
    "elif nA > nB :\n",
    "        print\n",
    "else:\n",
    "        print('nA、nb一樣大')"
   ]
  },
  {
   "cell_type": "markdown",
   "metadata": {},
   "source": [
    "# for迴圈"
   ]
  },
  {
   "cell_type": "code",
   "execution_count": 23,
   "metadata": {},
   "outputs": [
    {
     "name": "stdout",
     "output_type": "stream",
     "text": [
      "總和： 55\n"
     ]
    }
   ],
   "source": [
    "sum = 0\n",
    "for i in range(1,11):\n",
    "        sum = sum + i\n",
    "print('總和：' , sum)"
   ]
  },
  {
   "cell_type": "code",
   "execution_count": 24,
   "metadata": {},
   "outputs": [
    {
     "name": "stdout",
     "output_type": "stream",
     "text": [
      "總和： 49\n"
     ]
    }
   ],
   "source": [
    "B = [5,8,9,6,4,1,2,3,5,6]\n",
    "sum = 0\n",
    "for i in B:\n",
    "    sum = sum + i\n",
    "print('總和：' , sum)"
   ]
  },
  {
   "cell_type": "markdown",
   "metadata": {},
   "source": [
    "# ln-class exercise 隨堂練習"
   ]
  },
  {
   "cell_type": "markdown",
   "metadata": {},
   "source": [
    "雞兔同籠問題進行求解。\n",
    "若共有 35 個頭、94 隻腳，請問共有幾隻雞？幾隻兔子？"
   ]
  },
  {
   "cell_type": "code",
   "execution_count": 25,
   "metadata": {},
   "outputs": [
    {
     "name": "stdout",
     "output_type": "stream",
     "text": [
      "雞有  23  隻\n",
      "兔子有  12  隻\n"
     ]
    }
   ],
   "source": [
    "head = 35\n",
    "leg = 94\n",
    "\n",
    "for rabbit in range(0, head+1):\n",
    "    chicken = head - rabbit\n",
    "    if((rabbit*4 + chicken*2) == 94):\n",
    "        print('雞有 ', chicken , ' 隻')\n",
    "        print('兔子有 ', rabbit , ' 隻')"
   ]
  },
  {
   "cell_type": "code",
   "execution_count": 28,
   "metadata": {},
   "outputs": [
    {
     "name": "stdout",
     "output_type": "stream",
     "text": [
      "I\n",
      " \n",
      "l\n",
      "o\n",
      "v\n",
      "e\n",
      " \n",
      "r\n",
      "a\n",
      "b\n",
      "b\n",
      "i\n",
      "t\n"
     ]
    }
   ],
   "source": [
    "mylist = 'I love rabbit'\n",
    "for character in mylist:\n",
    "    print(character)"
   ]
  },
  {
   "cell_type": "code",
   "execution_count": null,
   "metadata": {},
   "outputs": [],
   "source": []
  }
 ],
 "metadata": {
  "kernelspec": {
   "display_name": "Python 3",
   "language": "python",
   "name": "python3"
  },
  "language_info": {
   "codemirror_mode": {
    "name": "ipython",
    "version": 3
   },
   "file_extension": ".py",
   "mimetype": "text/x-python",
   "name": "python",
   "nbconvert_exporter": "python",
   "pygments_lexer": "ipython3",
   "version": "3.7.1"
  }
 },
 "nbformat": 4,
 "nbformat_minor": 2
}
