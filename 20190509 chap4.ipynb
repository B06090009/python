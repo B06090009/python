{
 "cells": [
  {
   "cell_type": "markdown",
   "metadata": {},
   "source": [
    "# While迴圈"
   ]
  },
  {
   "cell_type": "markdown",
   "metadata": {},
   "source": [
    "# 1+2+3+...+10的總和"
   ]
  },
  {
   "cell_type": "code",
   "execution_count": 1,
   "metadata": {},
   "outputs": [
    {
     "name": "stdout",
     "output_type": "stream",
     "text": [
      "1+2+3+...+10 =  55\n"
     ]
    }
   ],
   "source": [
    "sum = 0\n",
    "count = 1\n",
    "while count <= 10:\n",
    "    sum = sum + count   # sum += count\n",
    "    count = count + 1   # count += 1\n",
    "print('1+2+3+...+10 = ' , sum)"
   ]
  },
  {
   "cell_type": "markdown",
   "metadata": {},
   "source": [
    "# 銀行利息範例"
   ]
  },
  {
   "cell_type": "code",
   "execution_count": 3,
   "metadata": {},
   "outputs": [
    {
     "name": "stdout",
     "output_type": "stream",
     "text": [
      "67 年後，存款金額會加倍\n"
     ]
    }
   ],
   "source": [
    "x = 10000\n",
    "year = 0 \n",
    "while x < 20000:\n",
    "    year += 1;\n",
    "    x = x * 1.0104\n",
    "print(str(year) , '年後，存款金額會加倍')"
   ]
  },
  {
   "cell_type": "markdown",
   "metadata": {},
   "source": [
    "# 帳號密碼程式"
   ]
  },
  {
   "cell_type": "code",
   "execution_count": 2,
   "metadata": {},
   "outputs": [
    {
     "name": "stdout",
     "output_type": "stream",
     "text": [
      "請輸入帳號：tina\n",
      "請輸入密碼：1234\n",
      "歡迎登入\n"
     ]
    }
   ],
   "source": [
    "id = 'tina'\n",
    "pwd = '1234'\n",
    "while True:\n",
    "    x = input('請輸入帳號：')\n",
    "    y = input('請輸入密碼：')\n",
    "    if( x == id and y == pwd):\n",
    "        print('歡迎登入')\n",
    "        break\n",
    "    else:\n",
    "        print('帳號/密碼輸入錯誤')"
   ]
  },
  {
   "cell_type": "markdown",
   "metadata": {},
   "source": [
    "# break,continue,pass 範例"
   ]
  },
  {
   "cell_type": "code",
   "execution_count": 5,
   "metadata": {},
   "outputs": [
    {
     "name": "stdout",
     "output_type": "stream",
     "text": [
      "C#\n",
      "python\n"
     ]
    }
   ],
   "source": [
    "mylist = ['C#' , 'python' , 'java' , 'C++']\n",
    "for i in mylist:\n",
    "    if i =='java':\n",
    "        break\n",
    "    else:\n",
    "        print(i)"
   ]
  },
  {
   "cell_type": "code",
   "execution_count": 7,
   "metadata": {},
   "outputs": [
    {
     "name": "stdout",
     "output_type": "stream",
     "text": [
      "C#\n",
      "python\n",
      "C++\n"
     ]
    }
   ],
   "source": [
    "mylist = ['C#' , 'python' , 'java' , 'C++']\n",
    "for i in mylist:\n",
    "    if i =='java':\n",
    "        continue\n",
    "    else:\n",
    "        print(i)"
   ]
  },
  {
   "cell_type": "code",
   "execution_count": 8,
   "metadata": {},
   "outputs": [
    {
     "name": "stdout",
     "output_type": "stream",
     "text": [
      "C#\n",
      "python\n",
      "C++\n"
     ]
    }
   ],
   "source": [
    "mylist = ['C#' , 'python' , 'java' , 'C++']\n",
    "for i in mylist:\n",
    "    if i =='java':\n",
    "        pass\n",
    "    else:\n",
    "        print(i)"
   ]
  },
  {
   "cell_type": "code",
   "execution_count": 9,
   "metadata": {},
   "outputs": [
    {
     "name": "stdout",
     "output_type": "stream",
     "text": [
      "0.663134038700858\n",
      "0.6885016923143036\n",
      "0.15506745471460837\n",
      "0.016534930378649615\n",
      "0.17648981809588227\n",
      "0.8544948198627833\n",
      "0.4612242480814588\n",
      "0.5658756921138375\n",
      "0.2138845057240234\n",
      "0.24657304356994425\n"
     ]
    }
   ],
   "source": [
    "import random\n",
    "for i in range(0,10):\n",
    "    print(random.random())"
   ]
  },
  {
   "cell_type": "code",
   "execution_count": 10,
   "metadata": {},
   "outputs": [
    {
     "name": "stdout",
     "output_type": "stream",
     "text": [
      "8\n",
      "7\n",
      "6\n",
      "10\n",
      "10\n",
      "6\n",
      "5\n",
      "2\n",
      "4\n",
      "10\n"
     ]
    }
   ],
   "source": [
    "for i in range(0,10):\n",
    "    print(random.randint(1,10))"
   ]
  },
  {
   "cell_type": "code",
   "execution_count": 12,
   "metadata": {},
   "outputs": [
    {
     "name": "stdout",
     "output_type": "stream",
     "text": [
      "請輸入1-99的數字(q離開)：56\n",
      "猜錯了\n",
      "請輸入1-99的數字(q離開)：15\n",
      "猜錯了\n",
      "請輸入1-99的數字(q離開)：546\n",
      "猜錯了\n",
      "請輸入1-99的數字(q離開)：5\n",
      "猜錯了\n",
      "請輸入1-99的數字(q離開)：4\n",
      "猜錯了\n",
      "請輸入1-99的數字(q離開)：q\n",
      "離開遊戲 45\n"
     ]
    }
   ],
   "source": [
    "import random\n",
    "number = random.randint(1,99)\n",
    "while True:\n",
    "    guess = input('請輸入1-99的數字(q離開)：')\n",
    "    if guess == 'q':\n",
    "        print('離開遊戲',number)\n",
    "        break\n",
    "    else:\n",
    "        if number == int(guess):\n",
    "            print('恭喜，猜對了')\n",
    "        else:\n",
    "            print('猜錯了')"
   ]
  },
  {
   "cell_type": "code",
   "execution_count": null,
   "metadata": {},
   "outputs": [],
   "source": []
  }
 ],
 "metadata": {
  "kernelspec": {
   "display_name": "Python 3",
   "language": "python",
   "name": "python3"
  },
  "language_info": {
   "codemirror_mode": {
    "name": "ipython",
    "version": 3
   },
   "file_extension": ".py",
   "mimetype": "text/x-python",
   "name": "python",
   "nbconvert_exporter": "python",
   "pygments_lexer": "ipython3",
   "version": "3.7.1"
  }
 },
 "nbformat": 4,
 "nbformat_minor": 2
}
